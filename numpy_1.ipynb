{
 "cells": [
  {
   "cell_type": "code",
   "execution_count": 104,
   "metadata": {},
   "outputs": [],
   "source": [
    "import numpy as np"
   ]
  },
  {
   "cell_type": "code",
   "execution_count": 105,
   "metadata": {},
   "outputs": [],
   "source": [
    "marks = [2, 3, 4, 2, 10, 4, 10, 7, 8, 3, 2, 9]"
   ]
  },
  {
   "cell_type": "code",
   "execution_count": 106,
   "metadata": {},
   "outputs": [
    {
     "name": "stdout",
     "output_type": "stream",
     "text": [
      "<class 'numpy.ndarray'>\n",
      "[ 2  3  4  2 10  4 10  7  8  3  2  9]\n",
      "[2, 3, 4, 2, 10, 4, 10, 7, 8, 3, 2, 9]\n",
      "int8\n",
      "(12,)\n",
      "1\n"
     ]
    }
   ],
   "source": [
    "# ndarray\n",
    "n1 = np.array(marks, dtype=np.int8)\n",
    "print(type(n1))\n",
    "print(n1)\n",
    "print(marks)\n",
    "print(n1.dtype)\n",
    "print(n1.shape)\n",
    "print(n1.ndim)"
   ]
  },
  {
   "cell_type": "code",
   "execution_count": 107,
   "metadata": {},
   "outputs": [
    {
     "name": "stdout",
     "output_type": "stream",
     "text": [
      "2\n",
      "3\n",
      "9\n",
      "3\n",
      "[2 9]\n",
      "[2 4 9]\n"
     ]
    }
   ],
   "source": [
    "# indexing (implict 0 based index)\n",
    "print(n1[0])\n",
    "print(n1[1])\n",
    "print(n1[-1])\n",
    "print(n1[-3])\n",
    "\n",
    "# multiple indexing\n",
    "print(n1[[0, -1]])\n",
    "print(n1[[0, 2, -1]])"
   ]
  },
  {
   "cell_type": "code",
   "execution_count": 108,
   "metadata": {},
   "outputs": [
    {
     "name": "stdout",
     "output_type": "stream",
     "text": [
      "[ 5  3  4  2 10  4 10  7  8  3  2  9]\n",
      "[ 5  2  4  2 10  4 10  7  8  3  2  8]\n",
      "[ 0  2  4  2 10  4 10  7  8  3  0  8]\n"
     ]
    }
   ],
   "source": [
    "# indexing + modification\n",
    "n1[0] = 5\n",
    "print(n1)\n",
    "n1[[1, -1]] = [2, 8]\n",
    "print(n1)\n",
    "n1[[0, -2]] = 0 # broadcasting\n",
    "print(n1)"
   ]
  },
  {
   "cell_type": "code",
   "execution_count": 109,
   "metadata": {},
   "outputs": [
    {
     "name": "stdout",
     "output_type": "stream",
     "text": [
      "[ 0  2  4  2 10  4 10  7  8  3  0  8]\n",
      "[0 2 4]\n",
      "[0 2 4]\n",
      "[ 2 10  4 10  7  8  3  0  8]\n",
      "[8 3 0 8]\n",
      "[8 3 0]\n"
     ]
    }
   ],
   "source": [
    "# slicing\n",
    "print(n1)\n",
    "print(n1[0:3])\n",
    "print(n1[:3])\n",
    "print(n1[3:])\n",
    "print(n1[-4:])\n",
    "print(n1[-4:-1])"
   ]
  },
  {
   "cell_type": "code",
   "execution_count": 110,
   "metadata": {},
   "outputs": [
    {
     "name": "stdout",
     "output_type": "stream",
     "text": [
      "[ 0  2  4  2 10  4 10  7  8  3  0  8]\n",
      "[ 0  0  0  2 10  4 10  7  8  3  0  8]\n"
     ]
    }
   ],
   "source": [
    "# modifying a slice of data\n",
    "print(n1)\n",
    "n1[:3] = 0\n",
    "print(n1)"
   ]
  },
  {
   "cell_type": "code",
   "execution_count": 111,
   "metadata": {},
   "outputs": [
    {
     "name": "stdout",
     "output_type": "stream",
     "text": [
      "[ 0  0  0  2 10  4 10  7  8  3  0  8]\n",
      "[ 1  1  1  3 11  5 11  8  9  4  1  9]\n",
      "[  0   0   0   4 100  16 100  49  64   9   0  64]\n"
     ]
    }
   ],
   "source": [
    "# Arithmetic operations\n",
    "print(n1)\n",
    "n2 = n1 + 1\n",
    "print(n2)\n",
    "n3 = n1 ** 2\n",
    "print(n3)"
   ]
  },
  {
   "cell_type": "code",
   "execution_count": 112,
   "metadata": {},
   "outputs": [
    {
     "name": "stdout",
     "output_type": "stream",
     "text": [
      "[ 0  0  0  2 10  4 10  7  8  3  0  8]\n",
      "[False False False False  True False  True False False False False False]\n",
      "[ True  True  True  True  True  True  True False False  True  True False]\n"
     ]
    }
   ],
   "source": [
    "# Relational operations\n",
    "print(n1)\n",
    "n4 = n1 == 10\n",
    "print(n4)\n",
    "n5 = (n1 == 10) | (n1 < 5)\n",
    "print(n5)"
   ]
  },
  {
   "cell_type": "code",
   "execution_count": 113,
   "metadata": {},
   "outputs": [
    {
     "name": "stdout",
     "output_type": "stream",
     "text": [
      "[ 0  0  0  2 10  4 10  7  8  3  0  8]\n",
      "[0 0 0 2 4 3 0]\n",
      "[ 0  0  0  2 10  4 10  3  0]\n"
     ]
    }
   ],
   "source": [
    "# filtering\n",
    "print(n1)\n",
    "n6 = n1[n1 < 5]\n",
    "print(n6)\n",
    "n7 = n1[(n1 == 10) | (n1 < 5)]\n",
    "print(n7)"
   ]
  },
  {
   "cell_type": "code",
   "execution_count": 114,
   "metadata": {},
   "outputs": [
    {
     "name": "stdout",
     "output_type": "stream",
     "text": [
      "[ 0  0  0  2 10  4 10  7  8  3  0  8]\n",
      "4.333333333333333\n",
      "3.5\n",
      "3.8801489089409387\n",
      "15.055555555555557\n",
      "0\n",
      "10\n"
     ]
    }
   ],
   "source": [
    "# descriptive statistics\n",
    "print(n1)\n",
    "print(n1.mean())\n",
    "print(np.median(n1))\n",
    "print(n1.std())\n",
    "print(n1.var())\n",
    "print(n1.min())\n",
    "print(n1.max())"
   ]
  },
  {
   "cell_type": "code",
   "execution_count": 115,
   "metadata": {},
   "outputs": [
    {
     "name": "stdout",
     "output_type": "stream",
     "text": [
      "[4 5 2 6 7 4 2]\n",
      "[ 4  9 11 17 24 28 30]\n",
      "[    4    20    40   240  1680  6720 13440]\n"
     ]
    }
   ],
   "source": [
    "chocolates = np.array([4, 5, 2, 6, 7, 4, 2])\n",
    "print(chocolates)\n",
    "print(chocolates.cumsum())\n",
    "print(chocolates.cumprod())"
   ]
  },
  {
   "cell_type": "code",
   "execution_count": 116,
   "metadata": {},
   "outputs": [
    {
     "name": "stdout",
     "output_type": "stream",
     "text": [
      "30\n",
      "7\n"
     ]
    }
   ],
   "source": [
    "print(chocolates.sum())\n",
    "print(chocolates.shape[0])"
   ]
  },
  {
   "cell_type": "code",
   "execution_count": 117,
   "metadata": {},
   "outputs": [
    {
     "name": "stdout",
     "output_type": "stream",
     "text": [
      "[ 0  0  0  2 10  4 10  7  8  3  0  8]\n",
      "[ 0  2  3  4  7  8 10]\n",
      "[ 0  0  0  0  2  3  4  7  8  8 10 10]\n",
      "[ 0  0  0  2 10  4 10  7  8  3  0  8]\n"
     ]
    }
   ],
   "source": [
    "# unique elements\n",
    "print(n1)\n",
    "print(np.unique(n1))\n",
    "# sorted\n",
    "print(np.sort(n1))\n",
    "print(n1)"
   ]
  },
  {
   "cell_type": "code",
   "execution_count": 119,
   "metadata": {},
   "outputs": [
    {
     "name": "stdout",
     "output_type": "stream",
     "text": [
      "[ 0  0  0  2 10  4 10  7  8  3  0  8]\n",
      "[0 0 0 0 1 0 1 0 1 0 0 1]\n"
     ]
    }
   ],
   "source": [
    "print(n1)\n",
    "labeled = np.where(n1 > 7, 1, 0)\n",
    "print(labeled)"
   ]
  },
  {
   "cell_type": "code",
   "execution_count": null,
   "metadata": {},
   "outputs": [],
   "source": []
  }
 ],
 "metadata": {
  "kernelspec": {
   "display_name": "Python 3",
   "language": "python",
   "name": "python3"
  },
  "language_info": {
   "codemirror_mode": {
    "name": "ipython",
    "version": 3
   },
   "file_extension": ".py",
   "mimetype": "text/x-python",
   "name": "python",
   "nbconvert_exporter": "python",
   "pygments_lexer": "ipython3",
   "version": "3.8.6"
  }
 },
 "nbformat": 4,
 "nbformat_minor": 4
}
