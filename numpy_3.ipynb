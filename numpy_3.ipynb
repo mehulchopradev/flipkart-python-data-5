{
 "cells": [
  {
   "cell_type": "code",
   "execution_count": 10,
   "metadata": {},
   "outputs": [],
   "source": [
    "import numpy as np\n",
    "import numpy.random as rd"
   ]
  },
  {
   "cell_type": "code",
   "execution_count": 4,
   "metadata": {},
   "outputs": [
    {
     "name": "stdout",
     "output_type": "stream",
     "text": [
      "[1. 1. 1. 1. 1. 1. 1. 1. 1. 1.]\n",
      "[0. 0. 0. 0. 0. 0. 0. 0. 0. 0. 0. 0. 0. 0. 0. 0. 0. 0. 0. 0.]\n",
      "[11 12 13 14 15 16 17 18 19 20 21 22 23 24 25 26 27 28 29 30 31 32 33 34\n",
      " 35]\n"
     ]
    }
   ],
   "source": [
    "print(np.ones(10))\n",
    "print(np.zeros(20))\n",
    "print(np.arange(11, 36))"
   ]
  },
  {
   "cell_type": "code",
   "execution_count": 9,
   "metadata": {},
   "outputs": [
    {
     "name": "stdout",
     "output_type": "stream",
     "text": [
      "[[1. 0. 0.]\n",
      " [0. 1. 0.]\n",
      " [0. 0. 1.]]\n",
      "[[1 2 3]\n",
      " [4 5 6]\n",
      " [7 8 9]]\n",
      "[1 2 3 4 5 6 7 8 9]\n"
     ]
    }
   ],
   "source": [
    "print(np.identity(3))\n",
    "n1 = np.arange(1, 10).reshape(3,3)\n",
    "print(n1)\n",
    "n2 = n1.ravel()\n",
    "print(n2)"
   ]
  },
  {
   "cell_type": "code",
   "execution_count": 39,
   "metadata": {},
   "outputs": [
    {
     "name": "stdout",
     "output_type": "stream",
     "text": [
      "[-1.21718822 -0.95202532 -1.88205447  0.33374662 -2.03507625 -0.2195116\n",
      "  1.21654969  0.4405595  -1.42904842 -1.04728076]\n",
      "[[-0.01161737  0.80927939]\n",
      " [-1.47291295  0.69967567]]\n",
      "[0.38917814 0.8868435  0.18181303 0.16165233 0.35281779 0.23587493\n",
      " 0.29214736 0.25312705 0.88879134 0.83306644]\n"
     ]
    }
   ],
   "source": [
    "print(rd.randn(10))\n",
    "print(rd.randn(2,2))\n",
    "print(rd.rand(10))"
   ]
  }
 ],
 "metadata": {
  "kernelspec": {
   "display_name": "Python 3",
   "language": "python",
   "name": "python3"
  },
  "language_info": {
   "codemirror_mode": {
    "name": "ipython",
    "version": 3
   },
   "file_extension": ".py",
   "mimetype": "text/x-python",
   "name": "python",
   "nbconvert_exporter": "python",
   "pygments_lexer": "ipython3",
   "version": "3.8.6"
  }
 },
 "nbformat": 4,
 "nbformat_minor": 4
}
