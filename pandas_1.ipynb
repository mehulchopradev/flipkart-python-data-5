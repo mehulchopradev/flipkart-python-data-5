{
 "cells": [
  {
   "cell_type": "code",
   "execution_count": 2,
   "metadata": {},
   "outputs": [],
   "source": [
    "import pandas as pd\n",
    "from pandas import Series"
   ]
  },
  {
   "cell_type": "code",
   "execution_count": 3,
   "metadata": {},
   "outputs": [],
   "source": [
    "marks = [2, 3, 4, 2, 10, 4, 10, 7, 8, 3, 2, 9]"
   ]
  },
  {
   "cell_type": "code",
   "execution_count": 5,
   "metadata": {},
   "outputs": [
    {
     "name": "stdout",
     "output_type": "stream",
     "text": [
      "<class 'pandas.core.series.Series'>\n",
      "0      2\n",
      "1      3\n",
      "2      4\n",
      "3      2\n",
      "4     10\n",
      "5      4\n",
      "6     10\n",
      "7      7\n",
      "8      8\n",
      "9      3\n",
      "10     2\n",
      "11     9\n",
      "dtype: int64\n"
     ]
    }
   ],
   "source": [
    "s1 = Series(marks)\n",
    "print(type(s1))\n",
    "print(s1)"
   ]
  },
  {
   "cell_type": "code",
   "execution_count": 8,
   "metadata": {},
   "outputs": [
    {
     "name": "stdout",
     "output_type": "stream",
     "text": [
      "1      2\n",
      "10     3\n",
      "2      4\n",
      "6      2\n",
      "5     10\n",
      "11     4\n",
      "9     10\n",
      "8      7\n",
      "16     8\n",
      "20     3\n",
      "22     2\n",
      "12     9\n",
      "dtype: int64\n",
      "Int64Index([1, 10, 2, 6, 5, 11, 9, 8, 16, 20, 22, 12], dtype='int64')\n",
      "[ 2  3  4  2 10  4 10  7  8  3  2  9]\n"
     ]
    }
   ],
   "source": [
    "roll = [1, 10, 2, 6, 5, 11, 9, 8, 16, 20, 22, 12]\n",
    "s2 = Series(marks, index=roll)\n",
    "print(s2)\n",
    "print(s2.index)\n",
    "print(s2.values)\n",
    "# apart from giving our own index, the Series even has the implict 0 based index"
   ]
  },
  {
   "cell_type": "code",
   "execution_count": 9,
   "metadata": {},
   "outputs": [
    {
     "name": "stdout",
     "output_type": "stream",
     "text": [
      "1     3\n",
      "3     5\n",
      "4    10\n",
      "5     7\n",
      "dtype: int64\n"
     ]
    }
   ],
   "source": [
    "student_marks = {1: 3, 3: 5, 4: 10, 5: 7}\n",
    "s3 = Series(student_marks)\n",
    "print(s3)"
   ]
  },
  {
   "cell_type": "code",
   "execution_count": 14,
   "metadata": {},
   "outputs": [
    {
     "name": "stdout",
     "output_type": "stream",
     "text": [
      "1      2\n",
      "10     3\n",
      "2      4\n",
      "6      2\n",
      "5     10\n",
      "11     4\n",
      "9     10\n",
      "8      7\n",
      "16     8\n",
      "20     3\n",
      "22     2\n",
      "12     9\n",
      "dtype: int64\n",
      "2\n",
      "1     2\n",
      "12    9\n",
      "dtype: int64\n",
      "2\n",
      "10    3\n",
      "11    4\n",
      "16    8\n",
      "dtype: int64\n"
     ]
    }
   ],
   "source": [
    "print(s2)\n",
    "# indexing\n",
    "# implicit 0 based indexing\n",
    "print(s2.iloc[0])\n",
    "print(s2.iloc[[0, -1]])\n",
    "\n",
    "# explicit index roll\n",
    "print(s2.loc[6])\n",
    "print(s2.loc[[10, 11, 16]])"
   ]
  },
  {
   "cell_type": "code",
   "execution_count": 19,
   "metadata": {},
   "outputs": [
    {
     "name": "stdout",
     "output_type": "stream",
     "text": [
      "1      2\n",
      "10     3\n",
      "2      4\n",
      "6      2\n",
      "5     10\n",
      "11     4\n",
      "9     10\n",
      "8      7\n",
      "16     8\n",
      "20     3\n",
      "22     2\n",
      "12     9\n",
      "dtype: int64\n",
      "1     2\n",
      "10    3\n",
      "2     4\n",
      "dtype: int64\n",
      "16    8\n",
      "20    3\n",
      "22    2\n",
      "12    9\n",
      "dtype: int64\n",
      "1     2\n",
      "10    3\n",
      "2     4\n",
      "6     2\n",
      "dtype: int64\n"
     ]
    }
   ],
   "source": [
    "# slicing\n",
    "print(s2)\n",
    "\n",
    "# using the implicit 0 based index\n",
    "print(s2.iloc[:3])\n",
    "print(s2.iloc[-4:])\n",
    "\n",
    "# using the explicit index - roll\n",
    "print(s2.loc[1:6]) # end index is inclusive"
   ]
  },
  {
   "cell_type": "code",
   "execution_count": 21,
   "metadata": {},
   "outputs": [
    {
     "name": "stdout",
     "output_type": "stream",
     "text": [
      "1      2\n",
      "10     3\n",
      "2      4\n",
      "6      2\n",
      "5     10\n",
      "11     4\n",
      "9     10\n",
      "8      7\n",
      "16     8\n",
      "20     3\n",
      "22     2\n",
      "12     9\n",
      "dtype: int64\n",
      "1      2\n",
      "10     3\n",
      "2      4\n",
      "6      2\n",
      "5     10\n",
      "11     5\n",
      "9     10\n",
      "8      7\n",
      "16     8\n",
      "20     3\n",
      "22     2\n",
      "12     9\n",
      "dtype: int64\n"
     ]
    }
   ],
   "source": [
    "# modify\n",
    "print(s2)\n",
    "s2.loc[11] = 5\n",
    "print(s2)"
   ]
  },
  {
   "cell_type": "code",
   "execution_count": 22,
   "metadata": {},
   "outputs": [
    {
     "name": "stdout",
     "output_type": "stream",
     "text": [
      "1      6\n",
      "10     3\n",
      "2      4\n",
      "6      2\n",
      "5     10\n",
      "11     5\n",
      "9     10\n",
      "8      7\n",
      "16     8\n",
      "20     3\n",
      "22     2\n",
      "12     9\n",
      "dtype: int64\n"
     ]
    }
   ],
   "source": [
    "s2.iloc[0] = 6\n",
    "print(s2)"
   ]
  },
  {
   "cell_type": "code",
   "execution_count": 23,
   "metadata": {},
   "outputs": [
    {
     "name": "stdout",
     "output_type": "stream",
     "text": [
      "1      0\n",
      "10     0\n",
      "2      0\n",
      "6      2\n",
      "5     10\n",
      "11     5\n",
      "9     10\n",
      "8      7\n",
      "16     8\n",
      "20     3\n",
      "22     2\n",
      "12     9\n",
      "dtype: int64\n"
     ]
    }
   ],
   "source": [
    "s2.iloc[:3] = 0\n",
    "print(s2)"
   ]
  }
 ],
 "metadata": {
  "kernelspec": {
   "display_name": "Python 3",
   "language": "python",
   "name": "python3"
  },
  "language_info": {
   "codemirror_mode": {
    "name": "ipython",
    "version": 3
   },
   "file_extension": ".py",
   "mimetype": "text/x-python",
   "name": "python",
   "nbconvert_exporter": "python",
   "pygments_lexer": "ipython3",
   "version": "3.8.6"
  }
 },
 "nbformat": 4,
 "nbformat_minor": 4
}
