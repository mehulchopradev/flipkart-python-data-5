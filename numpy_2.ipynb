{
 "cells": [
  {
   "cell_type": "code",
   "execution_count": 1,
   "metadata": {},
   "outputs": [],
   "source": [
    "import numpy as np"
   ]
  },
  {
   "cell_type": "code",
   "execution_count": 2,
   "metadata": {},
   "outputs": [],
   "source": [
    "marks = [\n",
    "    [99, 93, 100],\n",
    "    [90, 92, 98],\n",
    "    [95, 89, 88]\n",
    "]"
   ]
  },
  {
   "cell_type": "code",
   "execution_count": 6,
   "metadata": {},
   "outputs": [
    {
     "name": "stdout",
     "output_type": "stream",
     "text": [
      "[[ 99  93 100]\n",
      " [ 90  92  98]\n",
      " [ 95  89  88]]\n",
      "<class 'numpy.ndarray'>\n",
      "2\n",
      "(3, 3)\n"
     ]
    }
   ],
   "source": [
    "n1 = np.array(marks)\n",
    "print(n1)\n",
    "print(type(n1))\n",
    "print(n1.ndim)\n",
    "print(n1.shape)"
   ]
  },
  {
   "cell_type": "code",
   "execution_count": 13,
   "metadata": {},
   "outputs": [
    {
     "name": "stdout",
     "output_type": "stream",
     "text": [
      "[ 99  93 100]\n",
      "[95 89 88]\n",
      "[[ 99  93 100]\n",
      " [ 95  89  88]]\n",
      "93\n",
      "93\n",
      "[99 95]\n"
     ]
    }
   ],
   "source": [
    "# indexing\n",
    "print(n1[0])\n",
    "print(n1[-1])\n",
    "print(n1[[0, -1]])\n",
    "print(n1[0][1]) # in regular python lists. Is not that optimal\n",
    "print(n1[0, 1]) # numpy way and is optimal\n",
    "print(n1[[0, -1], 0])"
   ]
  },
  {
   "cell_type": "code",
   "execution_count": 18,
   "metadata": {
    "scrolled": true
   },
   "outputs": [
    {
     "name": "stdout",
     "output_type": "stream",
     "text": [
      "[[ 99  93 100]\n",
      " [ 90  92  98]\n",
      " [ 95  89  88]]\n",
      "[[ 99  93 100]\n",
      " [ 90  92  98]]\n",
      "[[90 92 98]\n",
      " [95 89 88]]\n",
      "[[ 93 100]\n",
      " [ 92  98]]\n"
     ]
    }
   ],
   "source": [
    "# slicing\n",
    "print(n1)\n",
    "print(n1[:2])\n",
    "print(n1[-2:])\n",
    "print(n1[:2, -2:])"
   ]
  },
  {
   "cell_type": "code",
   "execution_count": 22,
   "metadata": {},
   "outputs": [
    {
     "name": "stdout",
     "output_type": "stream",
     "text": [
      "[[ 99  93 100]\n",
      " [ 90  92  98]\n",
      " [ 95  89  88]]\n",
      "[[99 93]\n",
      " [95 89]]\n",
      "[[ 99 100]\n",
      " [ 90  98]]\n"
     ]
    }
   ],
   "source": [
    "# indexing + slicing\n",
    "print(n1)\n",
    "print(n1[[0, -1], :2])\n",
    "print(n1[:2, [0, -1]])"
   ]
  },
  {
   "cell_type": "code",
   "execution_count": 25,
   "metadata": {},
   "outputs": [
    {
     "name": "stdout",
     "output_type": "stream",
     "text": [
      "[[ 99  93 100]\n",
      " [ 90  92  98]\n",
      " [ 95  89  88]]\n",
      "[94.66666667 91.33333333 95.33333333]\n",
      "[292 280 272]\n"
     ]
    }
   ],
   "source": [
    "# descriptive statistics\n",
    "print(n1)\n",
    "# vertical axis = 0\n",
    "# horizonatal axis = 1\n",
    "n2 = n1.mean(axis=0)\n",
    "print(n2)\n",
    "n3 = n1.sum(axis=1)\n",
    "print(n3)"
   ]
  },
  {
   "cell_type": "code",
   "execution_count": 26,
   "metadata": {},
   "outputs": [
    {
     "name": "stdout",
     "output_type": "stream",
     "text": [
      "[[2 4]\n",
      " [3 7]]\n",
      "[[7 2]\n",
      " [6 9]]\n"
     ]
    }
   ],
   "source": [
    "# matrix operations\n",
    "m1 = np.array([\n",
    "    [2, 4],\n",
    "    [3, 7]\n",
    "])\n",
    "m2 = np.array([\n",
    "    [7, 2],\n",
    "    [6, 9]\n",
    "])\n",
    "print(m1)\n",
    "print(m2)"
   ]
  },
  {
   "cell_type": "code",
   "execution_count": 30,
   "metadata": {},
   "outputs": [
    {
     "name": "stdout",
     "output_type": "stream",
     "text": [
      "[[ 9  6]\n",
      " [ 9 16]]\n",
      "[[-5  2]\n",
      " [-3 -2]]\n",
      "[[14  8]\n",
      " [18 63]]\n",
      "[[38 40]\n",
      " [63 69]]\n"
     ]
    }
   ],
   "source": [
    "print(m1 + m2)\n",
    "print(m1 - m2)\n",
    "print(m1 * m2)\n",
    "print(np.dot(m1, m2)) # matrix multiplication"
   ]
  }
 ],
 "metadata": {
  "kernelspec": {
   "display_name": "Python 3",
   "language": "python",
   "name": "python3"
  },
  "language_info": {
   "codemirror_mode": {
    "name": "ipython",
    "version": 3
   },
   "file_extension": ".py",
   "mimetype": "text/x-python",
   "name": "python",
   "nbconvert_exporter": "python",
   "pygments_lexer": "ipython3",
   "version": "3.8.6"
  }
 },
 "nbformat": 4,
 "nbformat_minor": 4
}
